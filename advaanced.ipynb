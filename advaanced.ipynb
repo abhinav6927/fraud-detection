{
 "cells": [
  {
   "cell_type": "markdown",
   "metadata": {},
   "source": [
    "# **INTRODUCTION**"
   ]
  },
  {
   "cell_type": "markdown",
   "metadata": {},
   "source": [
    "\n",
    "In this notebook, I will analyze and build models to detect fraudulent transactions in a credit card dataset.\n",
    "\n",
    "We'll explore the data, preprocess it, and apply several machine learning models to predict fraud, including Logistic Regression, Isolation Forest, and Local Outlier Factor.\n",
    "\n",
    "The performance of these models will be evaluated using common classification metrics."
   ]
  },
  {
   "cell_type": "markdown",
   "metadata": {},
   "source": [
    "# Step 1: Importing Libraries\n",
    "\n",
    "We begin by importing the necessary libraries for data analysis, visualization, and model building:"
   ]
  },
  {
   "cell_type": "code",
   "execution_count": 1,
   "metadata": {},
   "outputs": [],
   "source": [
    "import pandas as pd\n",
    "import numpy as np\n",
    "import matplotlib.pyplot as plt\n",
    "import seaborn as sns\n",
    "from sklearn.model_selection import train_test_split\n",
    "from sklearn.preprocessing import StandardScaler\n",
    "from sklearn.linear_model import LogisticRegression\n",
    "from sklearn.metrics import confusion_matrix, classification_report, accuracy_score, precision_score, recall_score, f1_score\n",
    "from sklearn.ensemble import IsolationForest\n",
    "from sklearn.neighbors import LocalOutlierFactor"
   ]
  },
  {
   "cell_type": "markdown",
   "metadata": {},
   "source": [
    "# Step 2: Loading and Exploring the Dataset\n",
    "\n",
    "Next, we'll load the dataset and conduct some initial exploration:"
   ]
  },
  {
   "cell_type": "code",
   "execution_count": 2,
   "metadata": {},
   "outputs": [
    {
     "name": "stdout",
     "output_type": "stream",
     "text": [
      "<class 'pandas.core.frame.DataFrame'>\n",
      "RangeIndex: 284807 entries, 0 to 284806\n",
      "Data columns (total 31 columns):\n",
      " #   Column  Non-Null Count   Dtype  \n",
      "---  ------  --------------   -----  \n",
      " 0   Time    284807 non-null  float64\n",
      " 1   V1      284807 non-null  float64\n",
      " 2   V2      284807 non-null  float64\n",
      " 3   V3      284807 non-null  float64\n",
      " 4   V4      284807 non-null  float64\n",
      " 5   V5      284807 non-null  float64\n",
      " 6   V6      284807 non-null  float64\n",
      " 7   V7      284807 non-null  float64\n",
      " 8   V8      284807 non-null  float64\n",
      " 9   V9      284807 non-null  float64\n",
      " 10  V10     284807 non-null  float64\n",
      " 11  V11     284807 non-null  float64\n",
      " 12  V12     284807 non-null  float64\n",
      " 13  V13     284807 non-null  float64\n",
      " 14  V14     284807 non-null  float64\n",
      " 15  V15     284807 non-null  float64\n",
      " 16  V16     284807 non-null  float64\n",
      " 17  V17     284807 non-null  float64\n",
      " 18  V18     284807 non-null  float64\n",
      " 19  V19     284807 non-null  float64\n",
      " 20  V20     284807 non-null  float64\n",
      " 21  V21     284807 non-null  float64\n",
      " 22  V22     284807 non-null  float64\n",
      " 23  V23     284807 non-null  float64\n",
      " 24  V24     284807 non-null  float64\n",
      " 25  V25     284807 non-null  float64\n",
      " 26  V26     284807 non-null  float64\n",
      " 27  V27     284807 non-null  float64\n",
      " 28  V28     284807 non-null  float64\n",
      " 29  Amount  284807 non-null  float64\n",
      " 30  Class   284807 non-null  int64  \n",
      "dtypes: float64(30), int64(1)\n",
      "memory usage: 67.4 MB\n"
     ]
    },
    {
     "data": {
      "text/plain": [
       "Time      0\n",
       "V1        0\n",
       "V2        0\n",
       "V3        0\n",
       "V4        0\n",
       "V5        0\n",
       "V6        0\n",
       "V7        0\n",
       "V8        0\n",
       "V9        0\n",
       "V10       0\n",
       "V11       0\n",
       "V12       0\n",
       "V13       0\n",
       "V14       0\n",
       "V15       0\n",
       "V16       0\n",
       "V17       0\n",
       "V18       0\n",
       "V19       0\n",
       "V20       0\n",
       "V21       0\n",
       "V22       0\n",
       "V23       0\n",
       "V24       0\n",
       "V25       0\n",
       "V26       0\n",
       "V27       0\n",
       "V28       0\n",
       "Amount    0\n",
       "Class     0\n",
       "dtype: int64"
      ]
     },
     "execution_count": 2,
     "metadata": {},
     "output_type": "execute_result"
    }
   ],
   "source": [
    "df = pd.read_csv('creditcard.csv')\n",
    "df.head()\n",
    "df.info()\n",
    "df.describe()\n",
    "df.isnull().sum()  # Checking for missing values"
   ]
  },
  {
   "cell_type": "markdown",
   "metadata": {},
   "source": [
    "# Step 3: Class Distribution\n",
    "\n",
    "We visualize the class distribution to understand the balance between fraud and non-fraud transactions:"
   ]
  },
  {
   "cell_type": "code",
   "execution_count": 3,
   "metadata": {},
   "outputs": [
    {
     "name": "stdout",
     "output_type": "stream",
     "text": [
      "Class\n",
      "0    284315\n",
      "1       492\n",
      "Name: count, dtype: int64\n"
     ]
    },
    {
     "data": {
      "image/png": "[encoded data removed]",
      "text/plain": [
       "<Figure size 800x600 with 1 Axes>"
      ]
     },
     "metadata": {},
     "output_type": "display_data"
    }
   ],
   "source": [
    "# Class distribution\n",
    "class_counts = df['Class'].value_counts()\n",
    "print(class_counts)\n",
    "\n",
    "# Visualize class distribution\n",
    "plt.figure(figsize=(8, 6))\n",
    "sns.countplot(x='Class', data=df)\n",
    "plt.title('Class Distribution')\n",
    "plt.show()\n"
   ]
  },
  {
   "cell_type": "markdown",
   "metadata": {},
   "source": [
    "# Step 4: Feature-Target Separation and Data Splitting\n",
    "\n",
    "We separate the features (X) from the target (y) and split the data into training and testing sets:"
   ]
  },
  {
   "cell_type": "code",
   "execution_count": 4,
   "metadata": {},
   "outputs": [],
   "source": [
    "X = df.drop('Class', axis=1)\n",
    "y = df['Class']\n",
    "\n",
    "X_train, X_test, y_train, y_test = train_test_split(X, y, test_size=0.2, random_state=42)\n"
   ]
  },
  {
   "cell_type": "markdown",
   "metadata": {},
   "source": [
    "# Step 5: Scaling the Features\n",
    "\n",
    "To improve model performance, we scale the features using StandardScaler:"
   ]
  },
  {
   "cell_type": "code",
   "execution_count": 5,
   "metadata": {},
   "outputs": [],
   "source": [
    "scaler = StandardScaler()\n",
    "X_train = scaler.fit_transform(X_train)\n",
    "X_test = scaler.transform(X_test)\n"
   ]
  },
  {
   "cell_type": "markdown",
   "metadata": {},
   "source": [
    "# Step 6: Training a Logistic Regression Model\n",
    "\n",
    "We build and train a Logistic Regression model:"
   ]
  },
  {
   "cell_type": "code",
   "execution_count": 6,
   "metadata": {},
   "outputs": [
    {
     "name": "stdout",
     "output_type": "stream",
     "text": [
      "[[56854    10]\n",
      " [   43    55]]\n",
      "              precision    recall  f1-score   support\n",
      "\n",
      "           0       1.00      1.00      1.00     56864\n",
      "           1       0.85      0.56      0.67        98\n",
      "\n",
      "    accuracy                           1.00     56962\n",
      "   macro avg       0.92      0.78      0.84     56962\n",
      "weighted avg       1.00      1.00      1.00     56962\n",
      "\n",
      "Accuracy: 0.9990695551420246\n",
      "Precision: 0.8461538461538461\n",
      "Recall: 0.5612244897959183\n",
      "F1-Score: 0.6748466257668712\n"
     ]
    }
   ],
   "source": [
    "lr_model = LogisticRegression()\n",
    "lr_model.fit(X_train, y_train)\n",
    "\n",
    "# Predict on the test set\n",
    "y_pred_lr = lr_model.predict(X_test)\n",
    "\n",
    "# Evaluate the model\n",
    "print(confusion_matrix(y_test, y_pred_lr))\n",
    "print(classification_report(y_test, y_pred_lr))\n",
    "print(\"Accuracy:\", accuracy_score(y_test, y_pred_lr))\n",
    "print(\"Precision:\", precision_score(y_test, y_pred_lr))\n",
    "print(\"Recall:\", recall_score(y_test, y_pred_lr))\n",
    "print(\"F1-Score:\", f1_score(y_test, y_pred_lr))\n"
   ]
  },
  {
   "cell_type": "markdown",
   "metadata": {},
   "source": [
    "# Step 7: Outlier Detection with Isolation Forest and Local Outlier Factor\n",
    "\n",
    "We implement two unsupervised anomaly detection algorithms—Isolation Forest and Local Outlier Factor (LOF)—to detect fraud:"
   ]
  },
  {
   "cell_type": "code",
   "execution_count": null,
   "metadata": {},
   "outputs": [],
   "source": [
    "# Isolation Forest\n",
    "isolation_forest = IsolationForest(contamination=0.01, random_state=42)\n",
    "y_pred_if = isolation_forest.fit_predict(X)\n",
    "\n",
    "# Local Outlier Factor\n",
    "lof = LocalOutlierFactor(n_neighbors=20, contamination=0.01)\n",
    "y_pred_lof = lof.fit_predict(X)\n",
    "\n",
    "# Convert -1 to 1 (fraud) and 1 to 0 (normal)\n",
    "y_pred_if = np.where(y_pred_if == -1, 1, 0)\n",
    "y_pred_lof = np.where(y_pred_lof == -1, 1, 0)\n",
    "\n",
    "# Evaluate both models\n",
    "print(\"Isolation Forest:\")\n",
    "print(confusion_matrix(y, y_pred_if))\n",
    "print(classification_report(y, y_pred_if))\n",
    "\n",
    "print(\"\\nLocal Outlier Factor:\")\n",
    "print(confusion_matrix(y, y_pred_lof))\n",
    "print(classification_report(y, y_pred_lof))\n"
   ]
  },
  {
   "cell_type": "markdown",
   "metadata": {},
   "source": [
    "# Step 8: Correlation Analysis\n",
    "\n",
    "We'll calculate the correlation between features and visualize it using a heatmap:"
   ]
  },
  {
   "cell_type": "code",
   "execution_count": null,
   "metadata": {},
   "outputs": [],
   "source": [
    "correlation_matrix = df.corr()\n",
    "plt.figure(figsize=(12, 8))\n",
    "sns.heatmap(correlation_matrix, cmap='coolwarm', annot=False, linewidths=0.5)\n",
    "plt.title('Correlation Heatmap')\n",
    "plt.show()\n"
   ]
  },
  {
   "cell_type": "markdown",
   "metadata": {},
   "source": [
    "# Step 9: Visualizing Feature Distributions by Class\n",
    "\n",
    "We visualize the distribution of the first five features (V1 to V5) for both classes (fraud and non-fraud):"
   ]
  },
  {
   "cell_type": "code",
   "execution_count": null,
   "metadata": {},
   "outputs": [],
   "source": [
    "features = ['V1', 'V2', 'V3', 'V4', 'V5']\n",
    "plt.figure(figsize=(15, 10))\n",
    "\n",
    "for i, feature in enumerate(features):\n",
    "    plt.subplot(2, 3, i+1)\n",
    "    sns.boxplot(x='Class', y=feature, data=df)\n",
    "    plt.title(f'{feature} vs Class')\n",
    "\n",
    "plt.tight_layout()\n",
    "plt.show()\n"
   ]
  },
  {
   "cell_type": "markdown",
   "metadata": {},
   "source": [
    "# Step 10: Separate and Describe Fraudulent and Non-Fraudulent Transactions\n",
    "\n",
    "We separate the fraud and non-fraud transactions and display descriptive statistics for both:"
   ]
  },
  {
   "cell_type": "code",
   "execution_count": null,
   "metadata": {},
   "outputs": [],
   "source": [
    "fraud = df[df['Class'] == 1]\n",
    "non_fraud = df[df['Class'] == 0]\n",
    "\n",
    "print(\"Fraud Transactions:\")\n",
    "print(fraud.describe())\n",
    "\n",
    "print(\"\\nNon-Fraud Transactions:\")\n",
    "print(non_fraud.describe())\n"
   ]
  },
  {
   "cell_type": "markdown",
   "metadata": {},
   "source": [
    "# Step 11: Comparing Model Performance\n",
    "\n",
    "Finally, we compare the performance of all models in terms of accuracy, precision, recall, and F1-score:"
   ]
  },
  {
   "cell_type": "code",
   "execution_count": null,
   "metadata": {},
   "outputs": [],
   "source": [
    "results = pd.DataFrame({\n",
    "    'Model': ['Logistic Regression', 'Isolation Forest', 'Local Outlier Factor'],\n",
    "    'Accuracy': [accuracy_score(y_test, y_pred_lr), accuracy_score(y, y_pred_if), accuracy_score(y, y_pred_lof)],\n",
    "    'Precision': [precision_score(y_test, y_pred_lr), precision_score(y, y_pred_if), precision_score(y, y_pred_lof)],\n",
    "    'Recall': [recall_score(y_test, y_pred_lr), recall_score(y, y_pred_if), recall_score(y, y_pred_lof)],\n",
    "    'F1-Score': [f1_score(y_test, y_pred_lr), f1_score(y, y_pred_if), f1_score(y, y_pred_lof)]\n",
    "})\n",
    "\n",
    "print(results)\n"
   ]
  },
  {
   "cell_type": "markdown",
   "metadata": {},
   "source": [
    "# Step 12: Visualizing Amount Distribution by Class\n",
    "We visualize the distribution of the transaction amounts for both classes:"
   ]
  },
  {
   "cell_type": "code",
   "execution_count": null,
   "metadata": {},
   "outputs": [],
   "source": [
    "plt.figure(figsize=(10, 6))\n",
    "sns.histplot(data=df, x='Amount', hue='Class', bins=50, kde=True)\n",
    "plt.title('Amount Distribution by Class')\n",
    "plt.xlim(0, 2000)\n",
    "plt.show()\n"
   ]
  },
  {
   "cell_type": "markdown",
   "metadata": {},
   "source": [
    "# Conclusion\n",
    "In this notebook, we aimed to detect credit card fraud using various machine learning techniques, including Logistic Regression, Isolation Forest, and Local Outlier Factor (LOF). The dataset we used consisted of 284,807 transactions, out of which only 492 were fraudulent, making this a highly imbalanced classification problem.\n",
    "\n",
    "Our first model was Logistic Regression, which performed well in terms of accuracy (99.9%) but struggled with fraud detection, achieving a recall of 56%. While precision was relatively high at 84%, the model missed a significant number of fraud cases, highlighting the challenge of dealing with imbalanced datasets.\n",
    "\n",
    "Next, we applied two unsupervised anomaly detection algorithms: Isolation Forest and Local Outlier Factor. Isolation Forest performed better, identifying fraud cases with a recall of 59%, but still had limitations in terms of precision. LOF, on the other hand, had a much lower recall of 15%, making it less effective for this problem.\n",
    "\n",
    "One of the key insights from this project is that while traditional models like Logistic Regression can achieve high accuracy overall, they may not be the best choice for highly imbalanced datasets where detecting rare cases (such as fraud) is the priority. Anomaly detection methods, while useful, also require fine-tuning and may not provide sufficient precision for practical use without further optimization.\n",
    "\n",
    "Overall, this project highlights the complexities of fraud detection and the need for more advanced techniques, such as ensemble methods or cost-sensitive learning, to improve recall and precision in identifying fraudulent transactions."
   ]
  }
 ],
 "metadata": {
  "kernelspec": {
   "display_name": "Python 3",
   "language": "python",
   "name": "python3"
  },
  "language_info": {
   "codemirror_mode": {
    "name": "ipython",
    "version": 3
   },
   "file_extension": ".py",
   "mimetype": "text/x-python",
   "name": "python",
   "nbconvert_exporter": "python",
   "pygments_lexer": "ipython3",
   "version": "3.10.11"
  }
 },
 "nbformat": 4,
 "nbformat_minor": 2
}
